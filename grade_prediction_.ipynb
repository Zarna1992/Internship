{
  "cells": [
    {
      "cell_type": "code",
      "execution_count": 2,
      "id": "c6b8c096",
      "metadata": {
        "id": "c6b8c096"
      },
      "outputs": [],
      "source": [
        "import pandas as pd\n",
        "import numpy as np\n",
        "\n",
        "from sklearn.ensemble import RandomForestRegressor\n",
        "from sklearn.model_selection import train_test_split\n",
        "from sklearn.metrics import mean_squared_error\n",
        "\n",
        "from sklearn.linear_model import LinearRegression"
      ]
    },
    {
      "cell_type": "code",
      "execution_count": 3,
      "id": "8d2ba103",
      "metadata": {
        "id": "8d2ba103"
      },
      "outputs": [],
      "source": [
        "df=pd.read_csv(\"https://raw.githubusercontent.com/dsrscientist/dataset4/main/Grades.csv\")"
      ]
    },
    {
      "cell_type": "code",
      "execution_count": 98,
      "id": "c069bdfa",
      "metadata": {
        "id": "c069bdfa"
      },
      "outputs": [],
      "source": [
        "l = []\n",
        "\n",
        "for i in list(df.columns):\n",
        "  if i in [\"Seat No.\", \"CGPA\"]:\n",
        "    continue\n",
        "  l.extend(df[i].unique())\n",
        "\n",
        "x = list(set(l))"
      ]
    },
    {
      "cell_type": "code",
      "source": [
        "grades = {\"A+\": 20,\n",
        " \"A\": 19,\n",
        " \"A-\": 18,\n",
        " \"B+\": 17,\n",
        " \"B\": 16,\n",
        " \"B-\": 15,\n",
        " \"C+\": 14,\n",
        " \"C\": 13,\n",
        " \"C-\": 12,\n",
        " \"D+\": 11,\n",
        " \"D\": 10,\n",
        " \"D-\": 9,\n",
        " \"WU\": 8,\n",
        " \"W\": 7,\n",
        " \"I\": 6,\n",
        " \"F\":5\n",
        " }"
      ],
      "metadata": {
        "id": "r11fQTJGKq0O"
      },
      "id": "r11fQTJGKq0O",
      "execution_count": 57,
      "outputs": []
    },
    {
      "cell_type": "code",
      "source": [
        "df = df.fillna(0)"
      ],
      "metadata": {
        "id": "YiwJZ7JARHHZ"
      },
      "id": "YiwJZ7JARHHZ",
      "execution_count": 55,
      "outputs": []
    },
    {
      "cell_type": "code",
      "source": [
        "def apply_grades(n):\n",
        "  if n==0:\n",
        "    return 0\n",
        "  return grades[n]"
      ],
      "metadata": {
        "id": "pr8XPzMERZMe"
      },
      "id": "pr8XPzMERZMe",
      "execution_count": 69,
      "outputs": []
    },
    {
      "cell_type": "code",
      "source": [
        "u = ['PH-121', 'HS-101','CY-105', 'HS-105/12', 'MT-111',\n",
        "       'CS-105', 'CS-106', 'EL-102', 'EE-119', 'ME-107', 'CS-107', 'HS-205/20',\n",
        "       'MT-222', 'EE-222', 'MT-224', 'CS-210', 'CS-211', 'CS-203', 'CS-214',\n",
        "       'EE-217', 'CS-212', 'CS-215', 'MT-331', 'EF-303', 'HS-304', 'CS-301',\n",
        "       'CS-302', 'TC-383', 'MT-442', 'EL-332', 'CS-318', 'CS-306', 'CS-312',\n",
        "       'CS-317', 'CS-403', 'CS-421', 'CS-406', 'CS-414', 'CS-419', 'CS-423',\n",
        "       'CS-412']"
      ],
      "metadata": {
        "id": "o6jWH6bBScfM"
      },
      "id": "o6jWH6bBScfM",
      "execution_count": 70,
      "outputs": []
    },
    {
      "cell_type": "code",
      "source": [
        "for m in u:\n",
        "  df[m] = df[m].apply(apply_grades)"
      ],
      "metadata": {
        "id": "xNnQ7b-eSjVC"
      },
      "id": "xNnQ7b-eSjVC",
      "execution_count": 71,
      "outputs": []
    },
    {
      "cell_type": "code",
      "source": [
        "X = df[u].to_numpy()\n",
        "y = df[\"CGPA\"].to_numpy()"
      ],
      "metadata": {
        "id": "IerKoyaIT2Hj"
      },
      "id": "IerKoyaIT2Hj",
      "execution_count": 79,
      "outputs": []
    },
    {
      "cell_type": "code",
      "source": [
        "\n",
        "X_train, X_test, y_train, y_test = train_test_split(X, y, test_size = 0.30)\n",
        "clf = RandomForestRegressor(n_estimators = 100)\n",
        "clf.fit(X_train, y_train)\n",
        "y_pred = clf.predict(X_test)\n",
        "\n",
        "mean_squared_error(y_test, y_pred)"
      ],
      "metadata": {
        "id": "yEwU49OyUNma"
      },
      "id": "yEwU49OyUNma",
      "execution_count": 81,
      "outputs": []
    },
    {
      "cell_type": "code",
      "source": [
        "regressor = LinearRegression()\n",
        "regressor.fit(X_train,y_train)\n",
        "r2_score = regressor.score(X_test,y_test)\n",
        "print(r2_score*100,'%')"
      ],
      "metadata": {
        "colab": {
          "base_uri": "https://localhost:8080/"
        },
        "id": "VHSrPnLwU3Xd",
        "outputId": "93cc369b-1b56-4e03-b6e1-17dc6505630e"
      },
      "id": "VHSrPnLwU3Xd",
      "execution_count": 93,
      "outputs": [
        {
          "output_type": "stream",
          "name": "stdout",
          "text": [
            "86.82245158021244 %\n"
          ]
        }
      ]
    }
  ],
  "metadata": {
    "kernelspec": {
      "display_name": "Python 3 (ipykernel)",
      "language": "python",
      "name": "python3"
    },
    "language_info": {
      "codemirror_mode": {
        "name": "ipython",
        "version": 3
      },
      "file_extension": ".py",
      "mimetype": "text/x-python",
      "name": "python",
      "nbconvert_exporter": "python",
      "pygments_lexer": "ipython3",
      "version": "3.9.13"
    },
    "colab": {
      "provenance": []
    }
  },
  "nbformat": 4,
  "nbformat_minor": 5
}